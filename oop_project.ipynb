{
  "cells": [
    {
      "cell_type": "code",
      "execution_count": 1,
      "id": "423cc301",
      "metadata": {
        "id": "423cc301"
      },
      "outputs": [],
      "source": [
        "from datetime import date, timedelta\n",
        "\n",
        "class Book:\n",
        "    def __init__(self, ISBN, title, subject, publisher, language, numberOfPages):\n",
        "        self.ISBN = ISBN\n",
        "        self.title = title\n",
        "        self.subject = subject\n",
        "        self.publisher = publisher\n",
        "        self.language = language\n",
        "        self.numberOfPages = numberOfPages\n",
        "\n",
        "class BookItem(Book):\n",
        "    def __init__(self, ISBN, title, subject, publisher, language, numberOfPages,\n",
        "                 barcode, isReferenceOnly, borrowed=None, dueDate=None, price=0, format=\"Paperback\",\n",
        "                 status=\"Available\", dateOfPurchase=None, publicationDate=None):\n",
        "        # التأكد من استدعاء constructor الخاص بـ Book\n",
        "        Book.__init__(self, ISBN, title, subject, publisher, language, numberOfPages)\n",
        "\n",
        "        self.barcode = barcode\n",
        "        self.isReferenceOnly = isReferenceOnly\n",
        "        self.borrowed = borrowed\n",
        "        self.dueDate = dueDate\n",
        "        self.price = price\n",
        "        self.format = format\n",
        "        self.status = status\n",
        "        self.dateOfPurchase = dateOfPurchase\n",
        "        self.publicationDate = publicationDate\n",
        "\n",
        "    def checkout(self):\n",
        "        if self.isReferenceOnly:\n",
        "            print(\"This book is for reference only and cannot be checked out.\")\n",
        "            return False\n",
        "        if self.status != \"Available\":\n",
        "            print(\"This book is not available for checkout.\")\n",
        "            return False\n",
        "        self.status = \"Checked Out\"\n",
        "        self.borrowed = date.today()\n",
        "        self.dueDate = self.borrowed + timedelta(days=10)\n",
        "        print(f\"BookItem {self.barcode} checked out. Due date: {self.dueDate}\")\n",
        "        return True\n",
        "\n",
        "    def return_book(self):\n",
        "     if self.status == \"Checked Out\":\n",
        "        self.status = \"Available\"\n",
        "        self.borrowed = None\n",
        "        self.dueDate = None\n",
        "        print(f\"BookItem {self.barcode} returned.\")\n",
        "        return True\n",
        "        print(\"This book was not checked out.\")\n",
        "     return False\n",
        "\n",
        "\n"
      ]
    },
    {
      "cell_type": "code",
      "execution_count": 2,
      "id": "178c26a2",
      "metadata": {
        "id": "178c26a2"
      },
      "outputs": [],
      "source": [
        "class Rack:\n",
        "    def _init_(self,number,locationIdentifier):\n",
        "        self.number=number\n",
        "        self.locationIdentifier=locationIdentifier\n"
      ]
    },
    {
      "cell_type": "code",
      "execution_count": 3,
      "id": "dfff718a",
      "metadata": {
        "id": "dfff718a"
      },
      "outputs": [],
      "source": [
        "class Account:\n",
        "    def __init__(self, id, password, person, status=\"Active\"):\n",
        "        self.id = id\n",
        "        self.password = password\n",
        "        self.person = person\n",
        "        self.status = status\n",
        "\n"
      ]
    },
    {
      "cell_type": "code",
      "execution_count": 4,
      "id": "f8ec374f",
      "metadata": {
        "id": "f8ec374f"
      },
      "outputs": [],
      "source": [
        "class Librarian(Account):\n",
        "    def __init__(self, id, password, person, status=\"Active\"):\n",
        "        super().__init__(id, password,person,status)\n",
        "        self.books = []\n",
        "\n",
        "    def add_book(self, book_item):\n",
        "        self.books.append(book_item)\n",
        "        return \"Book added successfully!\"\n",
        "\n",
        "    def remove_book(self, book_barcode):\n",
        "        self.books = [book for book in self.books if book.get_barcode() != book_barcode]\n",
        "        return \"Book removed successfully!\"\n",
        "\n",
        "    def block_member(self, member):\n",
        "        member.status = 'Blocked'\n",
        "        return \"Member blocked!\"\n",
        "\n",
        "    def unblock_member(self, member):\n",
        "        member.status = 'Active'\n",
        "        return \"Member unblocked!\"\n"
      ]
    },
    {
      "cell_type": "code",
      "execution_count": 5,
      "id": "4e60c075",
      "metadata": {
        "id": "4e60c075"
      },
      "outputs": [],
      "source": [
        "class Member(Account):\n",
        "    def __init__(self, id, password, person, status=\"Active\"):\n",
        "        super().__init__(id, password, person, status)  # تعديل الترتيب هنا\n",
        "        self.books_checked_out = []\n",
        "\n",
        "\n",
        "    def checkout_book(self, book_item):\n",
        "        if len(self.books_checked_out) < 5 and book_item.checkout():\n",
        "            self.books_checked_out.append(book_item)\n",
        "            return \"Book checked out successfully!\"\n",
        "        return \"Cannot checkout book!\"\n",
        "\n",
        "    def return_book(self, book_item):\n",
        "        if book_item in self.books_checked_out and book_item.return_book():\n",
        "            self.books_checked_out.remove(book_item)\n",
        "            return \"Book returned successfully!\"\n",
        "        return \"Cannot return book!\""
      ]
    },
    {
      "cell_type": "code",
      "execution_count": 6,
      "id": "a870333c",
      "metadata": {
        "id": "a870333c"
      },
      "outputs": [],
      "source": [
        "class  library():\n",
        "    def __init__(self , name ,address):\n",
        "        self.__name=name\n",
        "        self.__address=address\n",
        "    def setaddress(self,address):\n",
        "        self.__address=address\n",
        "    def getadress(self):\n",
        "        return self.__address\n"
      ]
    },
    {
      "cell_type": "code",
      "execution_count": 7,
      "id": "48630d91",
      "metadata": {
        "id": "48630d91"
      },
      "outputs": [],
      "source": [
        "class Author:\n",
        "    def __init__(self,name,description):\n",
        "        self.__name=name\n",
        "        self.description=description\n",
        "    def setname(self,name):\n",
        "        self.name=name\n",
        "    def setname(self,name):\n",
        "        self.name=name"
      ]
    },
    {
      "cell_type": "code",
      "execution_count": 8,
      "id": "b5637ddb",
      "metadata": {
        "id": "b5637ddb"
      },
      "outputs": [],
      "source": [
        "class Catalog:\n",
        "    def __init__(self):\n",
        "        self.books = []\n",
        "\n",
        "    def add_book(self, book):\n",
        "        self.books.append(book)\n",
        "\n",
        "    def search_by_title(self, title):\n",
        "        return [book for book in self.books if title.lower() in book.title.lower()]\n",
        "\n",
        "    def search_by_author(self, author_name):\n",
        "        return [book for book in self.books if author_name.lower() in book.author.name.lower()]\n",
        "\n",
        "    def search_by_subject(self, subject):\n",
        "        return [book for book in self.books if subject.lower() in book.subject.lower()]\n",
        "\n",
        "    def search_by_publication_date(self, date):\n",
        "        return [book for book in self.books if book.publication_date == date]"
      ]
    },
    {
      "cell_type": "code",
      "execution_count": 9,
      "id": "872b3865",
      "metadata": {
        "id": "872b3865"
      },
      "outputs": [],
      "source": [
        "class Notification:\n",
        "    @staticmethod\n",
        "    def send_notification(member, message):\n",
        "        return f\"Notification to {member.id}: {message}\""
      ]
    },
    {
      "cell_type": "code",
      "source": [
        "class BookReservation:\n",
        "    def __init__(self, creation_date, status):\n",
        "        self.creation_date = creation_date\n",
        "        self.status = status\n",
        "\n",
        "    def get_status(self):\n",
        "        return self.status\n",
        "\n",
        "    def fetch_reservation_details(self):\n",
        "        return self"
      ],
      "metadata": {
        "id": "WkwLi9hDQyZj"
      },
      "id": "WkwLi9hDQyZj",
      "execution_count": 10,
      "outputs": []
    },
    {
      "cell_type": "code",
      "source": [
        "class BookLending:\n",
        "    def __init__(self, creation_date, due_date, return_date=None):\n",
        "        self.creation_date = creation_date\n",
        "        self.due_date = due_date\n",
        "        self.return_date = return_date\n",
        "    def get_return_date(self):\n",
        "        return self.return_date\n"
      ],
      "metadata": {
        "id": "XqoRGpKnQ1wy"
      },
      "id": "XqoRGpKnQ1wy",
      "execution_count": 11,
      "outputs": []
    },
    {
      "cell_type": "code",
      "source": [
        "class Fine:\n",
        "    def __init__(self, amount):\n",
        "        self.amount = amount\n",
        "\n",
        "    def get_amount(self):\n",
        "        return self.amount"
      ],
      "metadata": {
        "id": "eEShZkfKQ7sY"
      },
      "id": "eEShZkfKQ7sY",
      "execution_count": 12,
      "outputs": []
    },
    {
      "cell_type": "code",
      "source": [
        "class FineTransaction:\n",
        "    def __init__(self, creation_date, amount):\n",
        "        self.creation_date = creation_date\n",
        "        self.amount = amount\n",
        "    def initiate_transaction(self):\n",
        "        return True"
      ],
      "metadata": {
        "id": "8I4g2RblQ_r-"
      },
      "id": "8I4g2RblQ_r-",
      "execution_count": 13,
      "outputs": []
    },
    {
      "cell_type": "code",
      "source": [
        "class CreditCardTransaction(FineTransaction):\n",
        "    def __init__(self, creation_date, amount, name_on_card):\n",
        "        super().__init__(creation_date, amount)\n",
        "        self.name_on_card = name_on_card"
      ],
      "metadata": {
        "id": "AbO_wrrnRE33"
      },
      "id": "AbO_wrrnRE33",
      "execution_count": 14,
      "outputs": []
    },
    {
      "cell_type": "code",
      "source": [
        "class CheckTransaction(FineTransaction):\n",
        "    def __init__(self, creation_date, amount, bank_name, check_number):\n",
        "        super().__init__(creation_date, amount)\n",
        "        self.bank_name = bank_name\n",
        "        self.check_number = check_number"
      ],
      "metadata": {
        "id": "XcWeqXsVRLY_"
      },
      "id": "XcWeqXsVRLY_",
      "execution_count": 15,
      "outputs": []
    },
    {
      "cell_type": "code",
      "source": [
        "class CashTransaction(FineTransaction):\n",
        "    def __init__(self, creation_date, amount, cash_tendered):\n",
        "        super().__init__(creation_date, amount)\n",
        "        self.cash_tendered = cash_tendered"
      ],
      "metadata": {
        "id": "mC5T93uwRN0O"
      },
      "id": "mC5T93uwRN0O",
      "execution_count": 16,
      "outputs": []
    },
    {
      "cell_type": "code",
      "source": [
        "def main():\n",
        "    author1 = Author(\"Ahmed\", \"Expert in Python programming.\")\n",
        "\n",
        "    librarian = Librarian(\"lib1\", \"pass123\", \"Librarian Mohamed\")\n",
        "    member = Member(\"mem1\", \"pass456\", \"Member Alice\")\n",
        "    book1 = BookItem(\"123456\", \"Python \", \"Education\", \"O'Reilly\", \"English\", 500,\"B001\", False, price=30.5, format=\"Hardcover\", status=\"Available\",dateOfPurchase=\"2023-01-10\", publicationDate=\"2022-05-10\")\n",
        "\n",
        "    librarian.add_book(book1)\n",
        "\n",
        "    catalog = Catalog()\n",
        "    catalog.add_book(book1)\n",
        "\n",
        "    print(member.checkout_book(book1))  # استعارة كتاب\n",
        "    print(member.return_book(book1))    # إرجاع كتاب\n",
        "\n",
        "    print(Notification.send_notification(member, \"Your book is overdue!\"))\n",
        "\n",
        "if __name__ == \"__main__\":\n",
        "    main()\n",
        "\n"
      ],
      "metadata": {
        "colab": {
          "base_uri": "https://localhost:8080/"
        },
        "id": "RNE048JuU5W2",
        "outputId": "102b5aac-67c9-4f50-85a9-93ffb2fd6218"
      },
      "id": "RNE048JuU5W2",
      "execution_count": 18,
      "outputs": [
        {
          "output_type": "stream",
          "name": "stdout",
          "text": [
            "BookItem B001 checked out. Due date: 2025-04-03\n",
            "Book checked out successfully!\n",
            "BookItem B001 returned.\n",
            "Book returned successfully!\n",
            "Notification to mem1: Your book is overdue!\n"
          ]
        }
      ]
    }
  ],
  "metadata": {
    "kernelspec": {
      "display_name": "Python 3 (ipykernel)",
      "language": "python",
      "name": "python3"
    },
    "language_info": {
      "codemirror_mode": {
        "name": "ipython",
        "version": 3
      },
      "file_extension": ".py",
      "mimetype": "text/x-python",
      "name": "python",
      "nbconvert_exporter": "python",
      "pygments_lexer": "ipython3",
      "version": "3.11.3"
    },
    "colab": {
      "provenance": []
    }
  },
  "nbformat": 4,
  "nbformat_minor": 5
}